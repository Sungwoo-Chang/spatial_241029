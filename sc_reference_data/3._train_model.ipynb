{
 "cells": [
  {
   "cell_type": "code",
   "execution_count": 1,
   "metadata": {},
   "outputs": [
    {
     "name": "stderr",
     "output_type": "stream",
     "text": [
      "/home/jsw/jswenv/lib/python3.10/site-packages/tqdm/auto.py:21: TqdmWarning: IProgress not found. Please update jupyter and ipywidgets. See https://ipywidgets.readthedocs.io/en/stable/user_install.html\n",
      "  from .autonotebook import tqdm as notebook_tqdm\n",
      "2024-10-31 13:25:10.829389: E external/local_xla/xla/stream_executor/cuda/cuda_fft.cc:485] Unable to register cuFFT factory: Attempting to register factory for plugin cuFFT when one has already been registered\n",
      "2024-10-31 13:25:10.837557: E external/local_xla/xla/stream_executor/cuda/cuda_dnn.cc:8454] Unable to register cuDNN factory: Attempting to register factory for plugin cuDNN when one has already been registered\n",
      "2024-10-31 13:25:10.840145: E external/local_xla/xla/stream_executor/cuda/cuda_blas.cc:1452] Unable to register cuBLAS factory: Attempting to register factory for plugin cuBLAS when one has already been registered\n",
      "2024-10-31 13:25:11.263859: W tensorflow/compiler/tf2tensorrt/utils/py_utils.cc:38] TF-TRT Warning: Could not find TensorRT\n"
     ]
    }
   ],
   "source": [
    "import scanpy as sc\n",
    "import cell2location\n",
    "from cell2location.models import RegressionModel\n",
    "from sklearn.model_selection import train_test_split"
   ]
  },
  {
   "cell_type": "code",
   "execution_count": 2,
   "metadata": {},
   "outputs": [
    {
     "data": {
      "text/plain": [
       "AnnData object with n_obs × n_vars = 3261 × 17282\n",
       "    obs: 'sample', 'n_genes', 'total_counts', 'pct_counts_mito', 'pct_counts_ribo', 'leiden', 'tumor_cell', 'cnv_leiden', 'cnv_score', 'cell_type'\n",
       "    var: 'chromosome', 'start', 'end', 'gene_ids', 'feature_types', 'genome', 'n_cells', 'highly_variable', 'means', 'dispersions', 'dispersions_norm', 'highly_variable_nbatches', 'highly_variable_intersection', 'mean', 'std'\n",
       "    uns: 'cell_type_colors', 'cnv', 'cnv_leiden', 'cnv_leiden_colors', 'cnv_neighbors', 'dendrogram_cnv_leiden', 'dendrogram_leiden', 'hvg', 'leiden', 'leiden_colors', 'log1p', 'neighbors', 'pca', 'rank_genes_groups', 'sample_colors', 'tumor_cell_colors', 'umap'\n",
       "    obsm: 'X_cnv', 'X_cnv_pca', 'X_pca', 'X_pca_harmony', 'X_umap'\n",
       "    varm: 'PCs'\n",
       "    layers: 'counts'\n",
       "    obsp: 'cnv_neighbors_connectivities', 'cnv_neighbors_distances', 'connectivities', 'distances'"
      ]
     },
     "execution_count": 2,
     "metadata": {},
     "output_type": "execute_result"
    }
   ],
   "source": [
    "# load reference scRNA-seq data\n",
    "\n",
    "sc_ref = sc.read_h5ad('../data/adata_annotated.h5ad')\n",
    "sc_ref"
   ]
  },
  {
   "cell_type": "code",
   "execution_count": 3,
   "metadata": {},
   "outputs": [],
   "source": [
    "sc_ref.var['SYMBOL'] = sc_ref.var_names   # save var_names to 'SYMBOL'\n",
    "sc_ref.var.set_index('gene_ids', drop = True, inplace = True)    # set ENSEMBL ID as index\n",
    "\n",
    "# delete unnecessary raw slot\n",
    "del sc_ref.raw"
   ]
  },
  {
   "cell_type": "code",
   "execution_count": 4,
   "metadata": {},
   "outputs": [
    {
     "data": {
      "text/html": [
       "<div>\n",
       "<style scoped>\n",
       "    .dataframe tbody tr th:only-of-type {\n",
       "        vertical-align: middle;\n",
       "    }\n",
       "\n",
       "    .dataframe tbody tr th {\n",
       "        vertical-align: top;\n",
       "    }\n",
       "\n",
       "    .dataframe thead th {\n",
       "        text-align: right;\n",
       "    }\n",
       "</style>\n",
       "<table border=\"1\" class=\"dataframe\">\n",
       "  <thead>\n",
       "    <tr style=\"text-align: right;\">\n",
       "      <th></th>\n",
       "      <th>chromosome</th>\n",
       "      <th>start</th>\n",
       "      <th>end</th>\n",
       "      <th>feature_types</th>\n",
       "      <th>genome</th>\n",
       "      <th>n_cells</th>\n",
       "      <th>highly_variable</th>\n",
       "      <th>means</th>\n",
       "      <th>dispersions</th>\n",
       "      <th>dispersions_norm</th>\n",
       "      <th>highly_variable_nbatches</th>\n",
       "      <th>highly_variable_intersection</th>\n",
       "      <th>mean</th>\n",
       "      <th>std</th>\n",
       "      <th>SYMBOL</th>\n",
       "    </tr>\n",
       "    <tr>\n",
       "      <th>gene_ids</th>\n",
       "      <th></th>\n",
       "      <th></th>\n",
       "      <th></th>\n",
       "      <th></th>\n",
       "      <th></th>\n",
       "      <th></th>\n",
       "      <th></th>\n",
       "      <th></th>\n",
       "      <th></th>\n",
       "      <th></th>\n",
       "      <th></th>\n",
       "      <th></th>\n",
       "      <th></th>\n",
       "      <th></th>\n",
       "      <th></th>\n",
       "    </tr>\n",
       "  </thead>\n",
       "  <tbody>\n",
       "    <tr>\n",
       "      <th>ENSG00000177757</th>\n",
       "      <td>chr1</td>\n",
       "      <td>817371</td>\n",
       "      <td>819837</td>\n",
       "      <td>Gene Expression</td>\n",
       "      <td>GRCh38</td>\n",
       "      <td>10</td>\n",
       "      <td>False</td>\n",
       "      <td>0.003980</td>\n",
       "      <td>0.150140</td>\n",
       "      <td>-0.001102</td>\n",
       "      <td>1</td>\n",
       "      <td>False</td>\n",
       "      <td>0.002824</td>\n",
       "      <td>0.058902</td>\n",
       "      <td>FAM87B</td>\n",
       "    </tr>\n",
       "    <tr>\n",
       "      <th>ENSG00000225880</th>\n",
       "      <td>chr1</td>\n",
       "      <td>824228</td>\n",
       "      <td>827539</td>\n",
       "      <td>Gene Expression</td>\n",
       "      <td>GRCh38</td>\n",
       "      <td>110</td>\n",
       "      <td>False</td>\n",
       "      <td>0.043453</td>\n",
       "      <td>0.712847</td>\n",
       "      <td>-0.744003</td>\n",
       "      <td>0</td>\n",
       "      <td>False</td>\n",
       "      <td>0.029729</td>\n",
       "      <td>0.174624</td>\n",
       "      <td>LINC00115</td>\n",
       "    </tr>\n",
       "    <tr>\n",
       "      <th>ENSG00000230368</th>\n",
       "      <td>chr1</td>\n",
       "      <td>868071</td>\n",
       "      <td>876903</td>\n",
       "      <td>Gene Expression</td>\n",
       "      <td>GRCh38</td>\n",
       "      <td>77</td>\n",
       "      <td>False</td>\n",
       "      <td>0.038254</td>\n",
       "      <td>0.841007</td>\n",
       "      <td>-0.458932</td>\n",
       "      <td>0</td>\n",
       "      <td>False</td>\n",
       "      <td>0.019073</td>\n",
       "      <td>0.142729</td>\n",
       "      <td>FAM41C</td>\n",
       "    </tr>\n",
       "    <tr>\n",
       "      <th>ENSG00000187634</th>\n",
       "      <td>chr1</td>\n",
       "      <td>923923</td>\n",
       "      <td>944575</td>\n",
       "      <td>Gene Expression</td>\n",
       "      <td>GRCh38</td>\n",
       "      <td>10</td>\n",
       "      <td>False</td>\n",
       "      <td>0.018607</td>\n",
       "      <td>1.035632</td>\n",
       "      <td>0.198773</td>\n",
       "      <td>2</td>\n",
       "      <td>False</td>\n",
       "      <td>0.003069</td>\n",
       "      <td>0.079662</td>\n",
       "      <td>SAMD11</td>\n",
       "    </tr>\n",
       "    <tr>\n",
       "      <th>ENSG00000188976</th>\n",
       "      <td>chr1</td>\n",
       "      <td>944203</td>\n",
       "      <td>959309</td>\n",
       "      <td>Gene Expression</td>\n",
       "      <td>GRCh38</td>\n",
       "      <td>421</td>\n",
       "      <td>False</td>\n",
       "      <td>0.207137</td>\n",
       "      <td>1.296971</td>\n",
       "      <td>0.280509</td>\n",
       "      <td>1</td>\n",
       "      <td>False</td>\n",
       "      <td>0.122288</td>\n",
       "      <td>0.355127</td>\n",
       "      <td>NOC2L</td>\n",
       "    </tr>\n",
       "    <tr>\n",
       "      <th>...</th>\n",
       "      <td>...</td>\n",
       "      <td>...</td>\n",
       "      <td>...</td>\n",
       "      <td>...</td>\n",
       "      <td>...</td>\n",
       "      <td>...</td>\n",
       "      <td>...</td>\n",
       "      <td>...</td>\n",
       "      <td>...</td>\n",
       "      <td>...</td>\n",
       "      <td>...</td>\n",
       "      <td>...</td>\n",
       "      <td>...</td>\n",
       "      <td>...</td>\n",
       "      <td>...</td>\n",
       "    </tr>\n",
       "    <tr>\n",
       "      <th>ENSG00000212907</th>\n",
       "      <td>chrM</td>\n",
       "      <td>10470</td>\n",
       "      <td>10766</td>\n",
       "      <td>Gene Expression</td>\n",
       "      <td>GRCh38</td>\n",
       "      <td>2173</td>\n",
       "      <td>False</td>\n",
       "      <td>1.583785</td>\n",
       "      <td>1.981731</td>\n",
       "      <td>-0.721426</td>\n",
       "      <td>0</td>\n",
       "      <td>False</td>\n",
       "      <td>1.126615</td>\n",
       "      <td>0.969058</td>\n",
       "      <td>MT-ND4L</td>\n",
       "    </tr>\n",
       "    <tr>\n",
       "      <th>ENSG00000198886</th>\n",
       "      <td>chrM</td>\n",
       "      <td>10760</td>\n",
       "      <td>12137</td>\n",
       "      <td>Gene Expression</td>\n",
       "      <td>GRCh38</td>\n",
       "      <td>2924</td>\n",
       "      <td>False</td>\n",
       "      <td>3.554795</td>\n",
       "      <td>3.208965</td>\n",
       "      <td>-0.683389</td>\n",
       "      <td>0</td>\n",
       "      <td>False</td>\n",
       "      <td>3.131164</td>\n",
       "      <td>1.298940</td>\n",
       "      <td>MT-ND4</td>\n",
       "    </tr>\n",
       "    <tr>\n",
       "      <th>ENSG00000198786</th>\n",
       "      <td>chrM</td>\n",
       "      <td>12337</td>\n",
       "      <td>14148</td>\n",
       "      <td>Gene Expression</td>\n",
       "      <td>GRCh38</td>\n",
       "      <td>2646</td>\n",
       "      <td>False</td>\n",
       "      <td>2.528544</td>\n",
       "      <td>2.564114</td>\n",
       "      <td>-0.942584</td>\n",
       "      <td>0</td>\n",
       "      <td>False</td>\n",
       "      <td>2.072005</td>\n",
       "      <td>1.215068</td>\n",
       "      <td>MT-ND5</td>\n",
       "    </tr>\n",
       "    <tr>\n",
       "      <th>ENSG00000198695</th>\n",
       "      <td>chrM</td>\n",
       "      <td>14149</td>\n",
       "      <td>14673</td>\n",
       "      <td>Gene Expression</td>\n",
       "      <td>GRCh38</td>\n",
       "      <td>1094</td>\n",
       "      <td>False</td>\n",
       "      <td>0.743756</td>\n",
       "      <td>1.698410</td>\n",
       "      <td>-0.137748</td>\n",
       "      <td>1</td>\n",
       "      <td>False</td>\n",
       "      <td>0.420479</td>\n",
       "      <td>0.681340</td>\n",
       "      <td>MT-ND6</td>\n",
       "    </tr>\n",
       "    <tr>\n",
       "      <th>ENSG00000198727</th>\n",
       "      <td>chrM</td>\n",
       "      <td>14747</td>\n",
       "      <td>15887</td>\n",
       "      <td>Gene Expression</td>\n",
       "      <td>GRCh38</td>\n",
       "      <td>2867</td>\n",
       "      <td>False</td>\n",
       "      <td>3.566122</td>\n",
       "      <td>3.444633</td>\n",
       "      <td>-0.344900</td>\n",
       "      <td>0</td>\n",
       "      <td>False</td>\n",
       "      <td>3.117659</td>\n",
       "      <td>1.434315</td>\n",
       "      <td>MT-CYB</td>\n",
       "    </tr>\n",
       "  </tbody>\n",
       "</table>\n",
       "<p>17282 rows × 15 columns</p>\n",
       "</div>"
      ],
      "text/plain": [
       "                chromosome   start     end    feature_types  genome  n_cells  \\\n",
       "gene_ids                                                                       \n",
       "ENSG00000177757       chr1  817371  819837  Gene Expression  GRCh38       10   \n",
       "ENSG00000225880       chr1  824228  827539  Gene Expression  GRCh38      110   \n",
       "ENSG00000230368       chr1  868071  876903  Gene Expression  GRCh38       77   \n",
       "ENSG00000187634       chr1  923923  944575  Gene Expression  GRCh38       10   \n",
       "ENSG00000188976       chr1  944203  959309  Gene Expression  GRCh38      421   \n",
       "...                    ...     ...     ...              ...     ...      ...   \n",
       "ENSG00000212907       chrM   10470   10766  Gene Expression  GRCh38     2173   \n",
       "ENSG00000198886       chrM   10760   12137  Gene Expression  GRCh38     2924   \n",
       "ENSG00000198786       chrM   12337   14148  Gene Expression  GRCh38     2646   \n",
       "ENSG00000198695       chrM   14149   14673  Gene Expression  GRCh38     1094   \n",
       "ENSG00000198727       chrM   14747   15887  Gene Expression  GRCh38     2867   \n",
       "\n",
       "                 highly_variable     means  dispersions  dispersions_norm  \\\n",
       "gene_ids                                                                    \n",
       "ENSG00000177757            False  0.003980     0.150140         -0.001102   \n",
       "ENSG00000225880            False  0.043453     0.712847         -0.744003   \n",
       "ENSG00000230368            False  0.038254     0.841007         -0.458932   \n",
       "ENSG00000187634            False  0.018607     1.035632          0.198773   \n",
       "ENSG00000188976            False  0.207137     1.296971          0.280509   \n",
       "...                          ...       ...          ...               ...   \n",
       "ENSG00000212907            False  1.583785     1.981731         -0.721426   \n",
       "ENSG00000198886            False  3.554795     3.208965         -0.683389   \n",
       "ENSG00000198786            False  2.528544     2.564114         -0.942584   \n",
       "ENSG00000198695            False  0.743756     1.698410         -0.137748   \n",
       "ENSG00000198727            False  3.566122     3.444633         -0.344900   \n",
       "\n",
       "                 highly_variable_nbatches  highly_variable_intersection  \\\n",
       "gene_ids                                                                  \n",
       "ENSG00000177757                         1                         False   \n",
       "ENSG00000225880                         0                         False   \n",
       "ENSG00000230368                         0                         False   \n",
       "ENSG00000187634                         2                         False   \n",
       "ENSG00000188976                         1                         False   \n",
       "...                                   ...                           ...   \n",
       "ENSG00000212907                         0                         False   \n",
       "ENSG00000198886                         0                         False   \n",
       "ENSG00000198786                         0                         False   \n",
       "ENSG00000198695                         1                         False   \n",
       "ENSG00000198727                         0                         False   \n",
       "\n",
       "                     mean       std     SYMBOL  \n",
       "gene_ids                                        \n",
       "ENSG00000177757  0.002824  0.058902     FAM87B  \n",
       "ENSG00000225880  0.029729  0.174624  LINC00115  \n",
       "ENSG00000230368  0.019073  0.142729     FAM41C  \n",
       "ENSG00000187634  0.003069  0.079662     SAMD11  \n",
       "ENSG00000188976  0.122288  0.355127      NOC2L  \n",
       "...                   ...       ...        ...  \n",
       "ENSG00000212907  1.126615  0.969058    MT-ND4L  \n",
       "ENSG00000198886  3.131164  1.298940     MT-ND4  \n",
       "ENSG00000198786  2.072005  1.215068     MT-ND5  \n",
       "ENSG00000198695  0.420479  0.681340     MT-ND6  \n",
       "ENSG00000198727  3.117659  1.434315     MT-CYB  \n",
       "\n",
       "[17282 rows x 15 columns]"
      ]
     },
     "execution_count": 4,
     "metadata": {},
     "output_type": "execute_result"
    }
   ],
   "source": [
    "sc_ref.var"
   ]
  },
  {
   "cell_type": "code",
   "execution_count": 5,
   "metadata": {},
   "outputs": [
    {
     "name": "stderr",
     "output_type": "stream",
     "text": [
      "/home/jsw/jswenv/lib/python3.10/site-packages/pandas/core/arraylike.py:399: RuntimeWarning: invalid value encountered in log10\n",
      "  result = getattr(ufunc, method)(*inputs, **kwargs)\n"
     ]
    },
    {
     "data": {
      "image/png": "[encoded data removed]",
      "text/plain": [
       "<Figure size 640x480 with 1 Axes>"
      ]
     },
     "metadata": {},
     "output_type": "display_data"
    }
   ],
   "source": [
    "from cell2location.utils.filtering import filter_genes\n",
    "selected = filter_genes(sc_ref, cell_count_cutoff=5, cell_percentage_cutoff2=0.02, nonz_mean_cutoff=1.12)"
   ]
  },
  {
   "cell_type": "code",
   "execution_count": 6,
   "metadata": {},
   "outputs": [],
   "source": [
    "# filter the object\n",
    "sc_ref = sc_ref[:, selected].copy()"
   ]
  },
  {
   "cell_type": "code",
   "execution_count": 7,
   "metadata": {},
   "outputs": [
    {
     "data": {
      "text/plain": [
       "AnnData object with n_obs × n_vars = 3261 × 11243\n",
       "    obs: 'sample', 'n_genes', 'total_counts', 'pct_counts_mito', 'pct_counts_ribo', 'leiden', 'tumor_cell', 'cnv_leiden', 'cnv_score', 'cell_type'\n",
       "    var: 'chromosome', 'start', 'end', 'feature_types', 'genome', 'n_cells', 'highly_variable', 'means', 'dispersions', 'dispersions_norm', 'highly_variable_nbatches', 'highly_variable_intersection', 'mean', 'std', 'SYMBOL', 'nonz_mean'\n",
       "    uns: 'cell_type_colors', 'cnv', 'cnv_leiden', 'cnv_leiden_colors', 'cnv_neighbors', 'dendrogram_cnv_leiden', 'dendrogram_leiden', 'hvg', 'leiden', 'leiden_colors', 'log1p', 'neighbors', 'pca', 'rank_genes_groups', 'sample_colors', 'tumor_cell_colors', 'umap'\n",
       "    obsm: 'X_cnv', 'X_cnv_pca', 'X_pca', 'X_pca_harmony', 'X_umap'\n",
       "    varm: 'PCs'\n",
       "    layers: 'counts'\n",
       "    obsp: 'cnv_neighbors_connectivities', 'cnv_neighbors_distances', 'connectivities', 'distances'"
      ]
     },
     "execution_count": 7,
     "metadata": {},
     "output_type": "execute_result"
    }
   ],
   "source": [
    "sc_ref"
   ]
  },
  {
   "cell_type": "code",
   "execution_count": 8,
   "metadata": {},
   "outputs": [],
   "source": [
    "train_adata, val_adata = sc_ref[sc_ref.obs_names[:int(0.8 * len(sc_ref))]], sc_ref[sc_ref.obs_names[int(0.8 * len(sc_ref)):]]"
   ]
  },
  {
   "cell_type": "code",
   "execution_count": 9,
   "metadata": {},
   "outputs": [],
   "source": [
    "# Prepare anndata for the regression mocel (Negative binomial regression)\n",
    "cell2location.models.RegressionModel.setup_anndata(\n",
    "    adata = sc_ref,\n",
    "    labels_key = 'cell_type',\n",
    "    layer = 'counts'\n",
    ")"
   ]
  },
  {
   "cell_type": "code",
   "execution_count": 10,
   "metadata": {},
   "outputs": [
    {
     "data": {
      "text/html": [
       "<pre style=\"white-space:pre;overflow-x:auto;line-height:normal;font-family:Menlo,'DejaVu Sans Mono',consolas,'Courier New',monospace\">Anndata setup with scvi-tools version <span style=\"color: #008080; text-decoration-color: #008080; font-weight: bold\">1.2</span>.<span style=\"color: #008080; text-decoration-color: #008080; font-weight: bold\">0</span>.\n",
       "</pre>\n"
      ],
      "text/plain": [
       "Anndata setup with scvi-tools version \u001b[1;36m1.2\u001b[0m.\u001b[1;36m0\u001b[0m.\n"
      ]
     },
     "metadata": {},
     "output_type": "display_data"
    },
    {
     "data": {
      "text/html": [
       "<pre style=\"white-space:pre;overflow-x:auto;line-height:normal;font-family:Menlo,'DejaVu Sans Mono',consolas,'Courier New',monospace\">\n",
       "</pre>\n"
      ],
      "text/plain": [
       "\n"
      ]
     },
     "metadata": {},
     "output_type": "display_data"
    },
    {
     "data": {
      "text/html": [
       "<pre style=\"white-space:pre;overflow-x:auto;line-height:normal;font-family:Menlo,'DejaVu Sans Mono',consolas,'Courier New',monospace\">Setup via `RegressionModel.setup_anndata` with arguments:\n",
       "</pre>\n"
      ],
      "text/plain": [
       "Setup via `RegressionModel.setup_anndata` with arguments:\n"
      ]
     },
     "metadata": {},
     "output_type": "display_data"
    },
    {
     "data": {
      "text/html": [
       "<pre style=\"white-space:pre;overflow-x:auto;line-height:normal;font-family:Menlo,'DejaVu Sans Mono',consolas,'Courier New',monospace\"><span style=\"font-weight: bold\">{</span>\n",
       "<span style=\"color: #7fbf7f; text-decoration-color: #7fbf7f\">│   </span><span style=\"color: #008000; text-decoration-color: #008000\">'layer'</span>: <span style=\"color: #008000; text-decoration-color: #008000\">'counts'</span>,\n",
       "<span style=\"color: #7fbf7f; text-decoration-color: #7fbf7f\">│   </span><span style=\"color: #008000; text-decoration-color: #008000\">'batch_key'</span>: <span style=\"color: #800080; text-decoration-color: #800080; font-style: italic\">None</span>,\n",
       "<span style=\"color: #7fbf7f; text-decoration-color: #7fbf7f\">│   </span><span style=\"color: #008000; text-decoration-color: #008000\">'labels_key'</span>: <span style=\"color: #008000; text-decoration-color: #008000\">'cell_type'</span>,\n",
       "<span style=\"color: #7fbf7f; text-decoration-color: #7fbf7f\">│   </span><span style=\"color: #008000; text-decoration-color: #008000\">'categorical_covariate_keys'</span>: <span style=\"color: #800080; text-decoration-color: #800080; font-style: italic\">None</span>,\n",
       "<span style=\"color: #7fbf7f; text-decoration-color: #7fbf7f\">│   </span><span style=\"color: #008000; text-decoration-color: #008000\">'continuous_covariate_keys'</span>: <span style=\"color: #800080; text-decoration-color: #800080; font-style: italic\">None</span>\n",
       "<span style=\"font-weight: bold\">}</span>\n",
       "</pre>\n"
      ],
      "text/plain": [
       "\u001b[1m{\u001b[0m\n",
       "\u001b[2;32m│   \u001b[0m\u001b[32m'layer'\u001b[0m: \u001b[32m'counts'\u001b[0m,\n",
       "\u001b[2;32m│   \u001b[0m\u001b[32m'batch_key'\u001b[0m: \u001b[3;35mNone\u001b[0m,\n",
       "\u001b[2;32m│   \u001b[0m\u001b[32m'labels_key'\u001b[0m: \u001b[32m'cell_type'\u001b[0m,\n",
       "\u001b[2;32m│   \u001b[0m\u001b[32m'categorical_covariate_keys'\u001b[0m: \u001b[3;35mNone\u001b[0m,\n",
       "\u001b[2;32m│   \u001b[0m\u001b[32m'continuous_covariate_keys'\u001b[0m: \u001b[3;35mNone\u001b[0m\n",
       "\u001b[1m}\u001b[0m\n"
      ]
     },
     "metadata": {},
     "output_type": "display_data"
    },
    {
     "data": {
      "text/html": [
       "<pre style=\"white-space:pre;overflow-x:auto;line-height:normal;font-family:Menlo,'DejaVu Sans Mono',consolas,'Courier New',monospace\">\n",
       "</pre>\n"
      ],
      "text/plain": [
       "\n"
      ]
     },
     "metadata": {},
     "output_type": "display_data"
    },
    {
     "data": {
      "text/html": [
       "<pre style=\"white-space:pre;overflow-x:auto;line-height:normal;font-family:Menlo,'DejaVu Sans Mono',consolas,'Courier New',monospace\"><span style=\"font-style: italic\">         Summary Statistics         </span>\n",
       "┏━━━━━━━━━━━━━━━━━━━━━━━━━━┳━━━━━━━┓\n",
       "┃<span style=\"font-weight: bold\">     Summary Stat Key     </span>┃<span style=\"font-weight: bold\"> Value </span>┃\n",
       "┡━━━━━━━━━━━━━━━━━━━━━━━━━━╇━━━━━━━┩\n",
       "│<span style=\"color: #0087ff; text-decoration-color: #0087ff\">         n_batch          </span>│<span style=\"color: #af00d7; text-decoration-color: #af00d7\">   1   </span>│\n",
       "│<span style=\"color: #0087ff; text-decoration-color: #0087ff\">         n_cells          </span>│<span style=\"color: #af00d7; text-decoration-color: #af00d7\"> 3261  </span>│\n",
       "│<span style=\"color: #0087ff; text-decoration-color: #0087ff\"> n_extra_categorical_covs </span>│<span style=\"color: #af00d7; text-decoration-color: #af00d7\">   0   </span>│\n",
       "│<span style=\"color: #0087ff; text-decoration-color: #0087ff\"> n_extra_continuous_covs  </span>│<span style=\"color: #af00d7; text-decoration-color: #af00d7\">   0   </span>│\n",
       "│<span style=\"color: #0087ff; text-decoration-color: #0087ff\">         n_labels         </span>│<span style=\"color: #af00d7; text-decoration-color: #af00d7\">  11   </span>│\n",
       "│<span style=\"color: #0087ff; text-decoration-color: #0087ff\">          n_vars          </span>│<span style=\"color: #af00d7; text-decoration-color: #af00d7\"> 11243 </span>│\n",
       "└──────────────────────────┴───────┘\n",
       "</pre>\n"
      ],
      "text/plain": [
       "\u001b[3m         Summary Statistics         \u001b[0m\n",
       "┏━━━━━━━━━━━━━━━━━━━━━━━━━━┳━━━━━━━┓\n",
       "┃\u001b[1m \u001b[0m\u001b[1m    Summary Stat Key    \u001b[0m\u001b[1m \u001b[0m┃\u001b[1m \u001b[0m\u001b[1mValue\u001b[0m\u001b[1m \u001b[0m┃\n",
       "┡━━━━━━━━━━━━━━━━━━━━━━━━━━╇━━━━━━━┩\n",
       "│\u001b[38;5;33m \u001b[0m\u001b[38;5;33m        n_batch         \u001b[0m\u001b[38;5;33m \u001b[0m│\u001b[38;5;128m \u001b[0m\u001b[38;5;128m  1  \u001b[0m\u001b[38;5;128m \u001b[0m│\n",
       "│\u001b[38;5;33m \u001b[0m\u001b[38;5;33m        n_cells         \u001b[0m\u001b[38;5;33m \u001b[0m│\u001b[38;5;128m \u001b[0m\u001b[38;5;128m3261 \u001b[0m\u001b[38;5;128m \u001b[0m│\n",
       "│\u001b[38;5;33m \u001b[0m\u001b[38;5;33mn_extra_categorical_covs\u001b[0m\u001b[38;5;33m \u001b[0m│\u001b[38;5;128m \u001b[0m\u001b[38;5;128m  0  \u001b[0m\u001b[38;5;128m \u001b[0m│\n",
       "│\u001b[38;5;33m \u001b[0m\u001b[38;5;33mn_extra_continuous_covs \u001b[0m\u001b[38;5;33m \u001b[0m│\u001b[38;5;128m \u001b[0m\u001b[38;5;128m  0  \u001b[0m\u001b[38;5;128m \u001b[0m│\n",
       "│\u001b[38;5;33m \u001b[0m\u001b[38;5;33m        n_labels        \u001b[0m\u001b[38;5;33m \u001b[0m│\u001b[38;5;128m \u001b[0m\u001b[38;5;128m 11  \u001b[0m\u001b[38;5;128m \u001b[0m│\n",
       "│\u001b[38;5;33m \u001b[0m\u001b[38;5;33m         n_vars         \u001b[0m\u001b[38;5;33m \u001b[0m│\u001b[38;5;128m \u001b[0m\u001b[38;5;128m11243\u001b[0m\u001b[38;5;128m \u001b[0m│\n",
       "└──────────────────────────┴───────┘\n"
      ]
     },
     "metadata": {},
     "output_type": "display_data"
    },
    {
     "data": {
      "text/html": [
       "<pre style=\"white-space:pre;overflow-x:auto;line-height:normal;font-family:Menlo,'DejaVu Sans Mono',consolas,'Courier New',monospace\"><span style=\"font-style: italic\">               Data Registry                </span>\n",
       "┏━━━━━━━━━━━━━━┳━━━━━━━━━━━━━━━━━━━━━━━━━━━┓\n",
       "┃<span style=\"font-weight: bold\"> Registry Key </span>┃<span style=\"font-weight: bold\">    scvi-tools Location    </span>┃\n",
       "┡━━━━━━━━━━━━━━╇━━━━━━━━━━━━━━━━━━━━━━━━━━━┩\n",
       "│<span style=\"color: #0087ff; text-decoration-color: #0087ff\">      X       </span>│<span style=\"color: #af00d7; text-decoration-color: #af00d7\">  adata.layers['counts']   </span>│\n",
       "│<span style=\"color: #0087ff; text-decoration-color: #0087ff\">    batch     </span>│<span style=\"color: #af00d7; text-decoration-color: #af00d7\"> adata.obs['_scvi_batch']  </span>│\n",
       "│<span style=\"color: #0087ff; text-decoration-color: #0087ff\">    ind_x     </span>│<span style=\"color: #af00d7; text-decoration-color: #af00d7\">   adata.obs['_indices']   </span>│\n",
       "│<span style=\"color: #0087ff; text-decoration-color: #0087ff\">    labels    </span>│<span style=\"color: #af00d7; text-decoration-color: #af00d7\"> adata.obs['_scvi_labels'] </span>│\n",
       "└──────────────┴───────────────────────────┘\n",
       "</pre>\n"
      ],
      "text/plain": [
       "\u001b[3m               Data Registry                \u001b[0m\n",
       "┏━━━━━━━━━━━━━━┳━━━━━━━━━━━━━━━━━━━━━━━━━━━┓\n",
       "┃\u001b[1m \u001b[0m\u001b[1mRegistry Key\u001b[0m\u001b[1m \u001b[0m┃\u001b[1m \u001b[0m\u001b[1m   scvi-tools Location   \u001b[0m\u001b[1m \u001b[0m┃\n",
       "┡━━━━━━━━━━━━━━╇━━━━━━━━━━━━━━━━━━━━━━━━━━━┩\n",
       "│\u001b[38;5;33m \u001b[0m\u001b[38;5;33m     X      \u001b[0m\u001b[38;5;33m \u001b[0m│\u001b[38;5;128m \u001b[0m\u001b[38;5;128m adata.layers['counts']  \u001b[0m\u001b[38;5;128m \u001b[0m│\n",
       "│\u001b[38;5;33m \u001b[0m\u001b[38;5;33m   batch    \u001b[0m\u001b[38;5;33m \u001b[0m│\u001b[38;5;128m \u001b[0m\u001b[38;5;128madata.obs['_scvi_batch'] \u001b[0m\u001b[38;5;128m \u001b[0m│\n",
       "│\u001b[38;5;33m \u001b[0m\u001b[38;5;33m   ind_x    \u001b[0m\u001b[38;5;33m \u001b[0m│\u001b[38;5;128m \u001b[0m\u001b[38;5;128m  adata.obs['_indices']  \u001b[0m\u001b[38;5;128m \u001b[0m│\n",
       "│\u001b[38;5;33m \u001b[0m\u001b[38;5;33m   labels   \u001b[0m\u001b[38;5;33m \u001b[0m│\u001b[38;5;128m \u001b[0m\u001b[38;5;128madata.obs['_scvi_labels']\u001b[0m\u001b[38;5;128m \u001b[0m│\n",
       "└──────────────┴───────────────────────────┘\n"
      ]
     },
     "metadata": {},
     "output_type": "display_data"
    },
    {
     "data": {
      "text/html": [
       "<pre style=\"white-space:pre;overflow-x:auto;line-height:normal;font-family:Menlo,'DejaVu Sans Mono',consolas,'Courier New',monospace\"><span style=\"font-style: italic\">                     batch State Registry                      </span>\n",
       "┏━━━━━━━━━━━━━━━━━━━━━━━━━━┳━━━━━━━━━━━━┳━━━━━━━━━━━━━━━━━━━━━┓\n",
       "┃<span style=\"font-weight: bold\">     Source Location      </span>┃<span style=\"font-weight: bold\"> Categories </span>┃<span style=\"font-weight: bold\"> scvi-tools Encoding </span>┃\n",
       "┡━━━━━━━━━━━━━━━━━━━━━━━━━━╇━━━━━━━━━━━━╇━━━━━━━━━━━━━━━━━━━━━┩\n",
       "│<span style=\"color: #0087ff; text-decoration-color: #0087ff\"> adata.obs['_scvi_batch'] </span>│<span style=\"color: #008000; text-decoration-color: #008000\">     0      </span>│<span style=\"color: #af00d7; text-decoration-color: #af00d7\">          0          </span>│\n",
       "└──────────────────────────┴────────────┴─────────────────────┘\n",
       "</pre>\n"
      ],
      "text/plain": [
       "\u001b[3m                     batch State Registry                      \u001b[0m\n",
       "┏━━━━━━━━━━━━━━━━━━━━━━━━━━┳━━━━━━━━━━━━┳━━━━━━━━━━━━━━━━━━━━━┓\n",
       "┃\u001b[1m \u001b[0m\u001b[1m    Source Location     \u001b[0m\u001b[1m \u001b[0m┃\u001b[1m \u001b[0m\u001b[1mCategories\u001b[0m\u001b[1m \u001b[0m┃\u001b[1m \u001b[0m\u001b[1mscvi-tools Encoding\u001b[0m\u001b[1m \u001b[0m┃\n",
       "┡━━━━━━━━━━━━━━━━━━━━━━━━━━╇━━━━━━━━━━━━╇━━━━━━━━━━━━━━━━━━━━━┩\n",
       "│\u001b[38;5;33m \u001b[0m\u001b[38;5;33madata.obs['_scvi_batch']\u001b[0m\u001b[38;5;33m \u001b[0m│\u001b[32m \u001b[0m\u001b[32m    0     \u001b[0m\u001b[32m \u001b[0m│\u001b[38;5;128m \u001b[0m\u001b[38;5;128m         0         \u001b[0m\u001b[38;5;128m \u001b[0m│\n",
       "└──────────────────────────┴────────────┴─────────────────────┘\n"
      ]
     },
     "metadata": {},
     "output_type": "display_data"
    },
    {
     "data": {
      "text/html": [
       "<pre style=\"white-space:pre;overflow-x:auto;line-height:normal;font-family:Menlo,'DejaVu Sans Mono',consolas,'Courier New',monospace\"><span style=\"font-style: italic\">                       labels State Registry                       </span>\n",
       "┏━━━━━━━━━━━━━━━━━━━━━━━━┳━━━━━━━━━━━━━━━━━━┳━━━━━━━━━━━━━━━━━━━━━┓\n",
       "┃<span style=\"font-weight: bold\">    Source Location     </span>┃<span style=\"font-weight: bold\">    Categories    </span>┃<span style=\"font-weight: bold\"> scvi-tools Encoding </span>┃\n",
       "┡━━━━━━━━━━━━━━━━━━━━━━━━╇━━━━━━━━━━━━━━━━━━╇━━━━━━━━━━━━━━━━━━━━━┩\n",
       "│<span style=\"color: #0087ff; text-decoration-color: #0087ff\"> adata.obs['cell_type'] </span>│<span style=\"color: #008000; text-decoration-color: #008000\">    Malignant     </span>│<span style=\"color: #af00d7; text-decoration-color: #af00d7\">          0          </span>│\n",
       "│<span style=\"color: #0087ff; text-decoration-color: #0087ff\">                        </span>│<span style=\"color: #008000; text-decoration-color: #008000\">      Mo/Mp       </span>│<span style=\"color: #af00d7; text-decoration-color: #af00d7\">          1          </span>│\n",
       "│<span style=\"color: #0087ff; text-decoration-color: #0087ff\">                        </span>│<span style=\"color: #008000; text-decoration-color: #008000\">    Microglia     </span>│<span style=\"color: #af00d7; text-decoration-color: #af00d7\">          2          </span>│\n",
       "│<span style=\"color: #0087ff; text-decoration-color: #0087ff\">                        </span>│<span style=\"color: #008000; text-decoration-color: #008000\">       CD4        </span>│<span style=\"color: #af00d7; text-decoration-color: #af00d7\">          3          </span>│\n",
       "│<span style=\"color: #0087ff; text-decoration-color: #0087ff\">                        </span>│<span style=\"color: #008000; text-decoration-color: #008000\">       CD8        </span>│<span style=\"color: #af00d7; text-decoration-color: #af00d7\">          4          </span>│\n",
       "│<span style=\"color: #0087ff; text-decoration-color: #0087ff\">                        </span>│<span style=\"color: #008000; text-decoration-color: #008000\">       Treg       </span>│<span style=\"color: #af00d7; text-decoration-color: #af00d7\">          5          </span>│\n",
       "│<span style=\"color: #0087ff; text-decoration-color: #0087ff\">                        </span>│<span style=\"color: #008000; text-decoration-color: #008000\">     ILC/gdT      </span>│<span style=\"color: #af00d7; text-decoration-color: #af00d7\">          6          </span>│\n",
       "│<span style=\"color: #0087ff; text-decoration-color: #0087ff\">                        </span>│<span style=\"color: #008000; text-decoration-color: #008000\"> Oligodendrocytes </span>│<span style=\"color: #af00d7; text-decoration-color: #af00d7\">          7          </span>│\n",
       "│<span style=\"color: #0087ff; text-decoration-color: #0087ff\">                        </span>│<span style=\"color: #008000; text-decoration-color: #008000\">        B         </span>│<span style=\"color: #af00d7; text-decoration-color: #af00d7\">          8          </span>│\n",
       "│<span style=\"color: #0087ff; text-decoration-color: #0087ff\">                        </span>│<span style=\"color: #008000; text-decoration-color: #008000\">        DC        </span>│<span style=\"color: #af00d7; text-decoration-color: #af00d7\">          9          </span>│\n",
       "│<span style=\"color: #0087ff; text-decoration-color: #0087ff\">                        </span>│<span style=\"color: #008000; text-decoration-color: #008000\">       Etc        </span>│<span style=\"color: #af00d7; text-decoration-color: #af00d7\">         10          </span>│\n",
       "└────────────────────────┴──────────────────┴─────────────────────┘\n",
       "</pre>\n"
      ],
      "text/plain": [
       "\u001b[3m                       labels State Registry                       \u001b[0m\n",
       "┏━━━━━━━━━━━━━━━━━━━━━━━━┳━━━━━━━━━━━━━━━━━━┳━━━━━━━━━━━━━━━━━━━━━┓\n",
       "┃\u001b[1m \u001b[0m\u001b[1m   Source Location    \u001b[0m\u001b[1m \u001b[0m┃\u001b[1m \u001b[0m\u001b[1m   Categories   \u001b[0m\u001b[1m \u001b[0m┃\u001b[1m \u001b[0m\u001b[1mscvi-tools Encoding\u001b[0m\u001b[1m \u001b[0m┃\n",
       "┡━━━━━━━━━━━━━━━━━━━━━━━━╇━━━━━━━━━━━━━━━━━━╇━━━━━━━━━━━━━━━━━━━━━┩\n",
       "│\u001b[38;5;33m \u001b[0m\u001b[38;5;33madata.obs['cell_type']\u001b[0m\u001b[38;5;33m \u001b[0m│\u001b[32m \u001b[0m\u001b[32m   Malignant    \u001b[0m\u001b[32m \u001b[0m│\u001b[38;5;128m \u001b[0m\u001b[38;5;128m         0         \u001b[0m\u001b[38;5;128m \u001b[0m│\n",
       "│\u001b[38;5;33m \u001b[0m\u001b[38;5;33m                      \u001b[0m\u001b[38;5;33m \u001b[0m│\u001b[32m \u001b[0m\u001b[32m     Mo/Mp      \u001b[0m\u001b[32m \u001b[0m│\u001b[38;5;128m \u001b[0m\u001b[38;5;128m         1         \u001b[0m\u001b[38;5;128m \u001b[0m│\n",
       "│\u001b[38;5;33m \u001b[0m\u001b[38;5;33m                      \u001b[0m\u001b[38;5;33m \u001b[0m│\u001b[32m \u001b[0m\u001b[32m   Microglia    \u001b[0m\u001b[32m \u001b[0m│\u001b[38;5;128m \u001b[0m\u001b[38;5;128m         2         \u001b[0m\u001b[38;5;128m \u001b[0m│\n",
       "│\u001b[38;5;33m \u001b[0m\u001b[38;5;33m                      \u001b[0m\u001b[38;5;33m \u001b[0m│\u001b[32m \u001b[0m\u001b[32m      CD4       \u001b[0m\u001b[32m \u001b[0m│\u001b[38;5;128m \u001b[0m\u001b[38;5;128m         3         \u001b[0m\u001b[38;5;128m \u001b[0m│\n",
       "│\u001b[38;5;33m \u001b[0m\u001b[38;5;33m                      \u001b[0m\u001b[38;5;33m \u001b[0m│\u001b[32m \u001b[0m\u001b[32m      CD8       \u001b[0m\u001b[32m \u001b[0m│\u001b[38;5;128m \u001b[0m\u001b[38;5;128m         4         \u001b[0m\u001b[38;5;128m \u001b[0m│\n",
       "│\u001b[38;5;33m \u001b[0m\u001b[38;5;33m                      \u001b[0m\u001b[38;5;33m \u001b[0m│\u001b[32m \u001b[0m\u001b[32m      Treg      \u001b[0m\u001b[32m \u001b[0m│\u001b[38;5;128m \u001b[0m\u001b[38;5;128m         5         \u001b[0m\u001b[38;5;128m \u001b[0m│\n",
       "│\u001b[38;5;33m \u001b[0m\u001b[38;5;33m                      \u001b[0m\u001b[38;5;33m \u001b[0m│\u001b[32m \u001b[0m\u001b[32m    ILC/gdT     \u001b[0m\u001b[32m \u001b[0m│\u001b[38;5;128m \u001b[0m\u001b[38;5;128m         6         \u001b[0m\u001b[38;5;128m \u001b[0m│\n",
       "│\u001b[38;5;33m \u001b[0m\u001b[38;5;33m                      \u001b[0m\u001b[38;5;33m \u001b[0m│\u001b[32m \u001b[0m\u001b[32mOligodendrocytes\u001b[0m\u001b[32m \u001b[0m│\u001b[38;5;128m \u001b[0m\u001b[38;5;128m         7         \u001b[0m\u001b[38;5;128m \u001b[0m│\n",
       "│\u001b[38;5;33m \u001b[0m\u001b[38;5;33m                      \u001b[0m\u001b[38;5;33m \u001b[0m│\u001b[32m \u001b[0m\u001b[32m       B        \u001b[0m\u001b[32m \u001b[0m│\u001b[38;5;128m \u001b[0m\u001b[38;5;128m         8         \u001b[0m\u001b[38;5;128m \u001b[0m│\n",
       "│\u001b[38;5;33m \u001b[0m\u001b[38;5;33m                      \u001b[0m\u001b[38;5;33m \u001b[0m│\u001b[32m \u001b[0m\u001b[32m       DC       \u001b[0m\u001b[32m \u001b[0m│\u001b[38;5;128m \u001b[0m\u001b[38;5;128m         9         \u001b[0m\u001b[38;5;128m \u001b[0m│\n",
       "│\u001b[38;5;33m \u001b[0m\u001b[38;5;33m                      \u001b[0m\u001b[38;5;33m \u001b[0m│\u001b[32m \u001b[0m\u001b[32m      Etc       \u001b[0m\u001b[32m \u001b[0m│\u001b[38;5;128m \u001b[0m\u001b[38;5;128m        10         \u001b[0m\u001b[38;5;128m \u001b[0m│\n",
       "└────────────────────────┴──────────────────┴─────────────────────┘\n"
      ]
     },
     "metadata": {},
     "output_type": "display_data"
    }
   ],
   "source": [
    "# Create the regression model\n",
    "mod = RegressionModel(sc_ref)\n",
    "\n",
    "# View andata_setup as a sanity check\n",
    "mod.view_anndata_setup()"
   ]
  },
  {
   "cell_type": "code",
   "execution_count": 11,
   "metadata": {},
   "outputs": [
    {
     "name": "stderr",
     "output_type": "stream",
     "text": [
      "GPU available: True (cuda), used: True\n",
      "TPU available: False, using: 0 TPU cores\n",
      "HPU available: False, using: 0 HPUs\n",
      "/home/jsw/jswenv/lib/python3.10/site-packages/lightning/pytorch/trainer/configuration_validator.py:68: You passed in a `val_dataloader` but have no `validation_step`. Skipping val loop.\n",
      "You are using a CUDA device ('NVIDIA GeForce RTX 3070') that has Tensor Cores. To properly utilize them, you should set `torch.set_float32_matmul_precision('medium' | 'high')` which will trade-off precision for performance. For more details, read https://pytorch.org/docs/stable/generated/torch.set_float32_matmul_precision.html#torch.set_float32_matmul_precision\n",
      "LOCAL_RANK: 0 - CUDA_VISIBLE_DEVICES: [0]\n",
      "/home/jsw/jswenv/lib/python3.10/site-packages/lightning/pytorch/trainer/connectors/data_connector.py:424: The 'train_dataloader' does not have many workers which may be a bottleneck. Consider increasing the value of the `num_workers` argument` to `num_workers=31` in the `DataLoader` to improve performance.\n",
      "/home/jsw/jswenv/lib/python3.10/site-packages/lightning/pytorch/loops/fit_loop.py:298: The number of training batches (2) is smaller than the logging interval Trainer(log_every_n_steps=10). Set a lower value for log_every_n_steps if you want to see logs for the training epoch.\n"
     ]
    },
    {
     "name": "stdout",
     "output_type": "stream",
     "text": [
      "Epoch 800/800: 100%|██████████| 800/800 [01:44<00:00,  7.74it/s, v_num=1, elbo_train=2.13e+7]"
     ]
    },
    {
     "name": "stderr",
     "output_type": "stream",
     "text": [
      "`Trainer.fit` stopped: `max_epochs=800` reached.\n"
     ]
    },
    {
     "name": "stdout",
     "output_type": "stream",
     "text": [
      "Epoch 800/800: 100%|██████████| 800/800 [01:44<00:00,  7.66it/s, v_num=1, elbo_train=2.13e+7]\n"
     ]
    }
   ],
   "source": [
    "mod.train(max_epochs=800, train_size = 1)\n"
   ]
  },
  {
   "cell_type": "code",
   "execution_count": 12,
   "metadata": {},
   "outputs": [
    {
     "data": {
      "image/png": "[encoded data removed]",
      "text/plain": [
       "<Figure size 640x480 with 1 Axes>"
      ]
     },
     "metadata": {},
     "output_type": "display_data"
    }
   ],
   "source": [
    "mod.plot_history(20)"
   ]
  },
  {
   "cell_type": "code",
   "execution_count": 13,
   "metadata": {},
   "outputs": [
    {
     "name": "stdout",
     "output_type": "stream",
     "text": [
      "Sampling local variables, batch:   0%|          | 0/26 [00:00<?, ?it/s]\n",
      "Sampling global variables, sample: 100%|██████████| 999/999 [00:02<00:00, 347.60it/s]\n"
     ]
    }
   ],
   "source": [
    "# Export the estimated cell abundance (summary of the posterior distribution)\n",
    "sc_ref = mod.export_posterior(\n",
    "    sc_ref, sample_kwargs={'num_samples': 1000,}\n",
    ")"
   ]
  },
  {
   "cell_type": "code",
   "execution_count": 14,
   "metadata": {},
   "outputs": [],
   "source": [
    "# Save model\n",
    "mod.save('../data/model', overwrite = True)"
   ]
  },
  {
   "cell_type": "code",
   "execution_count": 15,
   "metadata": {},
   "outputs": [
    {
     "data": {
      "text/plain": [
       "AnnData object with n_obs × n_vars = 3261 × 11243\n",
       "    obs: 'sample', 'n_genes', 'total_counts', 'pct_counts_mito', 'pct_counts_ribo', 'leiden', 'tumor_cell', 'cnv_leiden', 'cnv_score', 'cell_type', '_indices', '_scvi_batch', '_scvi_labels'\n",
       "    var: 'chromosome', 'start', 'end', 'feature_types', 'genome', 'n_cells', 'highly_variable', 'means', 'dispersions', 'dispersions_norm', 'highly_variable_nbatches', 'highly_variable_intersection', 'mean', 'std', 'SYMBOL', 'nonz_mean'\n",
       "    uns: 'cell_type_colors', 'cnv', 'cnv_leiden', 'cnv_leiden_colors', 'cnv_neighbors', 'dendrogram_cnv_leiden', 'dendrogram_leiden', 'hvg', 'leiden', 'leiden_colors', 'log1p', 'neighbors', 'pca', 'rank_genes_groups', 'sample_colors', 'tumor_cell_colors', 'umap', '_scvi_uuid', '_scvi_manager_uuid', 'mod'\n",
       "    obsm: 'X_cnv', 'X_cnv_pca', 'X_pca', 'X_pca_harmony', 'X_umap'\n",
       "    varm: 'PCs', 'means_per_cluster_mu_fg', 'stds_per_cluster_mu_fg', 'q05_per_cluster_mu_fg', 'q95_per_cluster_mu_fg'\n",
       "    layers: 'counts'\n",
       "    obsp: 'cnv_neighbors_connectivities', 'cnv_neighbors_distances', 'connectivities', 'distances'"
      ]
     },
     "execution_count": 15,
     "metadata": {},
     "output_type": "execute_result"
    }
   ],
   "source": [
    "# Save anndata object with results\n",
    "sc_ref.write('../data/adata_modelled.h5ad')\n",
    "sc_ref"
   ]
  },
  {
   "cell_type": "code",
   "execution_count": 16,
   "metadata": {},
   "outputs": [
    {
     "data": {
      "image/png": "[encoded data removed]",
      "text/plain": [
       "<Figure size 640x480 with 1 Axes>"
      ]
     },
     "metadata": {},
     "output_type": "display_data"
    },
    {
     "data": {
      "image/png": "[encoded data removed]",
      "text/plain": [
       "<Figure size 640x480 with 1 Axes>"
      ]
     },
     "metadata": {},
     "output_type": "display_data"
    }
   ],
   "source": [
    "mod.plot_QC()"
   ]
  },
  {
   "cell_type": "code",
   "execution_count": 17,
   "metadata": {},
   "outputs": [
    {
     "data": {
      "text/plain": [
       "AnnData object with n_obs × n_vars = 3261 × 11243\n",
       "    obs: 'sample', 'n_genes', 'total_counts', 'pct_counts_mito', 'pct_counts_ribo', 'leiden', 'tumor_cell', 'cnv_leiden', 'cnv_score', 'cell_type', '_indices', '_scvi_batch', '_scvi_labels'\n",
       "    var: 'chromosome', 'start', 'end', 'feature_types', 'genome', 'n_cells', 'highly_variable', 'means', 'dispersions', 'dispersions_norm', 'highly_variable_nbatches', 'highly_variable_intersection', 'mean', 'std', 'SYMBOL', 'nonz_mean'\n",
       "    uns: 'cell_type_colors', 'cnv', 'cnv_leiden', 'cnv_leiden_colors', 'cnv_neighbors', 'dendrogram_cnv_leiden', 'dendrogram_leiden', 'hvg', 'leiden', 'leiden_colors', 'log1p', 'neighbors', 'pca', 'rank_genes_groups', 'sample_colors', 'tumor_cell_colors', 'umap', '_scvi_uuid', '_scvi_manager_uuid', 'mod'\n",
       "    obsm: 'X_cnv', 'X_cnv_pca', 'X_pca', 'X_pca_harmony', 'X_umap'\n",
       "    varm: 'PCs', 'means_per_cluster_mu_fg', 'stds_per_cluster_mu_fg', 'q05_per_cluster_mu_fg', 'q95_per_cluster_mu_fg'\n",
       "    layers: 'counts'\n",
       "    obsp: 'cnv_neighbors_connectivities', 'cnv_neighbors_distances', 'connectivities', 'distances'"
      ]
     },
     "execution_count": 17,
     "metadata": {},
     "output_type": "execute_result"
    }
   ],
   "source": [
    "sc_ref"
   ]
  },
  {
   "cell_type": "code",
   "execution_count": 18,
   "metadata": {},
   "outputs": [
    {
     "data": {
      "text/html": [
       "<div>\n",
       "<style scoped>\n",
       "    .dataframe tbody tr th:only-of-type {\n",
       "        vertical-align: middle;\n",
       "    }\n",
       "\n",
       "    .dataframe tbody tr th {\n",
       "        vertical-align: top;\n",
       "    }\n",
       "\n",
       "    .dataframe thead th {\n",
       "        text-align: right;\n",
       "    }\n",
       "</style>\n",
       "<table border=\"1\" class=\"dataframe\">\n",
       "  <thead>\n",
       "    <tr style=\"text-align: right;\">\n",
       "      <th></th>\n",
       "      <th>Malignant</th>\n",
       "      <th>Mo/Mp</th>\n",
       "      <th>Microglia</th>\n",
       "      <th>CD4</th>\n",
       "      <th>CD8</th>\n",
       "    </tr>\n",
       "    <tr>\n",
       "      <th>gene_ids</th>\n",
       "      <th></th>\n",
       "      <th></th>\n",
       "      <th></th>\n",
       "      <th></th>\n",
       "      <th></th>\n",
       "    </tr>\n",
       "  </thead>\n",
       "  <tbody>\n",
       "    <tr>\n",
       "      <th>ENSG00000225880</th>\n",
       "      <td>0.025898</td>\n",
       "      <td>0.012293</td>\n",
       "      <td>0.040366</td>\n",
       "      <td>0.008388</td>\n",
       "      <td>0.005969</td>\n",
       "    </tr>\n",
       "    <tr>\n",
       "      <th>ENSG00000230368</th>\n",
       "      <td>0.009052</td>\n",
       "      <td>0.003938</td>\n",
       "      <td>0.023126</td>\n",
       "      <td>0.004455</td>\n",
       "      <td>0.002329</td>\n",
       "    </tr>\n",
       "    <tr>\n",
       "      <th>ENSG00000188976</th>\n",
       "      <td>0.168302</td>\n",
       "      <td>0.033147</td>\n",
       "      <td>0.072085</td>\n",
       "      <td>0.052782</td>\n",
       "      <td>0.064015</td>\n",
       "    </tr>\n",
       "    <tr>\n",
       "      <th>ENSG00000188290</th>\n",
       "      <td>0.006502</td>\n",
       "      <td>0.026078</td>\n",
       "      <td>0.030692</td>\n",
       "      <td>0.012683</td>\n",
       "      <td>0.002701</td>\n",
       "    </tr>\n",
       "    <tr>\n",
       "      <th>ENSG00000187608</th>\n",
       "      <td>0.413070</td>\n",
       "      <td>0.205262</td>\n",
       "      <td>0.504563</td>\n",
       "      <td>0.319425</td>\n",
       "      <td>0.516544</td>\n",
       "    </tr>\n",
       "  </tbody>\n",
       "</table>\n",
       "</div>"
      ],
      "text/plain": [
       "                 Malignant     Mo/Mp  Microglia       CD4       CD8\n",
       "gene_ids                                                           \n",
       "ENSG00000225880   0.025898  0.012293   0.040366  0.008388  0.005969\n",
       "ENSG00000230368   0.009052  0.003938   0.023126  0.004455  0.002329\n",
       "ENSG00000188976   0.168302  0.033147   0.072085  0.052782  0.064015\n",
       "ENSG00000188290   0.006502  0.026078   0.030692  0.012683  0.002701\n",
       "ENSG00000187608   0.413070  0.205262   0.504563  0.319425  0.516544"
      ]
     },
     "execution_count": 18,
     "metadata": {},
     "output_type": "execute_result"
    }
   ],
   "source": [
    "# Export estimated expression in each cluster\n",
    "if 'means_per_cluster_mu_fg' in sc_ref.varm.keys():\n",
    "    inf_aver = sc_ref.varm['means_per_cluster_mu_fg'][[f'means_per_cluster_mu_fg_{i}'\n",
    "                                                       for i in sc_ref.uns['mod']['factor_names']]].copy()\n",
    "else:\n",
    "    inf_aver = sc_ref.var[[f'means_per_cluster_mu_fg_{i}'\n",
    "                           for i in sc_ref.uns['mod']['factor_names']]].copy() \n",
    "inf_aver.columns = sc_ref.uns['mod']['factor_names']\n",
    "inf_aver.iloc[0:5, 0:5]"
   ]
  },
  {
   "cell_type": "code",
   "execution_count": 19,
   "metadata": {},
   "outputs": [],
   "source": [
    "inf_aver.to_csv('../data/inf_aver.csv')"
   ]
  }
 ],
 "metadata": {
  "kernelspec": {
   "display_name": "jswenv",
   "language": "python",
   "name": "python3"
  },
  "language_info": {
   "codemirror_mode": {
    "name": "ipython",
    "version": 3
   },
   "file_extension": ".py",
   "mimetype": "text/x-python",
   "name": "python",
   "nbconvert_exporter": "python",
   "pygments_lexer": "ipython3",
   "version": "3.10.12"
  }
 },
 "nbformat": 4,
 "nbformat_minor": 2
}
